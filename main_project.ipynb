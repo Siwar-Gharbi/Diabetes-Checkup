{
 "cells": [
  {
   "cell_type": "code",
   "execution_count": 1,
   "id": "40a830fe",
   "metadata": {},
   "outputs": [],
   "source": [
    "import numpy as np\n",
    "import pandas as pd\n",
    "from sklearn.model_selection import train_test_split\n",
    "from sklearn.linear_model import LogisticRegression\n",
    "from sklearn.metrics import accuracy_score\n",
    "from flask import Flask, request, render_template\n",
    "import pickle"
   ]
  },
  {
   "cell_type": "code",
   "execution_count": 35,
   "id": "f781f7d7",
   "metadata": {},
   "outputs": [],
   "source": [
    "app = Flask(__name__,template_folder='./templates',static_folder='./static')\n",
    "model = pickle.load(open('model.pkl', 'rb'))"
   ]
  },
  {
   "cell_type": "code",
   "execution_count": null,
   "id": "df53d5d1",
   "metadata": {},
   "outputs": [
    {
     "name": "stdout",
     "output_type": "stream",
     "text": [
      " * Serving Flask app \"__main__\" (lazy loading)\n",
      " * Environment: production\n",
      "\u001b[31m   WARNING: This is a development server. Do not use it in a production deployment.\u001b[0m\n",
      "\u001b[2m   Use a production WSGI server instead.\u001b[0m\n",
      " * Debug mode: off\n"
     ]
    },
    {
     "name": "stderr",
     "output_type": "stream",
     "text": [
      " * Running on http://127.0.0.1:5000/ (Press CTRL+C to quit)\n",
      "127.0.0.1 - - [04/Nov/2022 23:00:41] \"GET / HTTP/1.1\" 200 -\n",
      "127.0.0.1 - - [04/Nov/2022 23:00:57] \"POST /predict HTTP/1.1\" 200 -\n"
     ]
    },
    {
     "name": "stdout",
     "output_type": "stream",
     "text": [
      "<generator object MultiDict.values at 0x00000217606D64A0>\n",
      "[array([12.,  2., 56., 77.,  8.,  3.,  5.,  6.])]\n"
     ]
    },
    {
     "name": "stderr",
     "output_type": "stream",
     "text": [
      "127.0.0.1 - - [04/Nov/2022 23:16:11] \"GET / HTTP/1.1\" 200 -\n",
      "[2022-11-04 23:19:13,416] ERROR in app: Exception on /predict [POST]\n",
      "Traceback (most recent call last):\n",
      "  File \"C:\\Users\\MSI\\anaconda3\\lib\\site-packages\\flask\\app.py\", line 2447, in wsgi_app\n",
      "    response = self.full_dispatch_request()\n",
      "  File \"C:\\Users\\MSI\\anaconda3\\lib\\site-packages\\flask\\app.py\", line 1952, in full_dispatch_request\n",
      "    rv = self.handle_user_exception(e)\n",
      "  File \"C:\\Users\\MSI\\anaconda3\\lib\\site-packages\\flask\\app.py\", line 1821, in handle_user_exception\n",
      "    reraise(exc_type, exc_value, tb)\n",
      "  File \"C:\\Users\\MSI\\anaconda3\\lib\\site-packages\\flask\\_compat.py\", line 39, in reraise\n",
      "    raise value\n",
      "  File \"C:\\Users\\MSI\\anaconda3\\lib\\site-packages\\flask\\app.py\", line 1950, in full_dispatch_request\n",
      "    rv = self.dispatch_request()\n",
      "  File \"C:\\Users\\MSI\\anaconda3\\lib\\site-packages\\flask\\app.py\", line 1936, in dispatch_request\n",
      "    return self.view_functions[rule.endpoint](**req.view_args)\n",
      "  File \"C:\\Users\\MSI\\AppData\\Local\\Temp\\ipykernel_16820\\3025254718.py\", line 8, in predict\n",
      "    input_features = [float(x) for x in request.form.values()]\n",
      "  File \"C:\\Users\\MSI\\AppData\\Local\\Temp\\ipykernel_16820\\3025254718.py\", line 8, in <listcomp>\n",
      "    input_features = [float(x) for x in request.form.values()]\n",
      "ValueError: could not convert string to float: ''\n",
      "127.0.0.1 - - [04/Nov/2022 23:19:13] \"POST /predict HTTP/1.1\" 500 -\n"
     ]
    },
    {
     "name": "stdout",
     "output_type": "stream",
     "text": [
      "<generator object MultiDict.values at 0x00000217606D64A0>\n"
     ]
    },
    {
     "name": "stderr",
     "output_type": "stream",
     "text": [
      "127.0.0.1 - - [04/Nov/2022 23:19:26] \"POST /predict HTTP/1.1\" 200 -\n"
     ]
    },
    {
     "name": "stdout",
     "output_type": "stream",
     "text": [
      "<generator object MultiDict.values at 0x0000021760740200>\n",
      "[array([12.,  2., 56., 77.,  4.,  3.,  7.,  3.])]\n"
     ]
    }
   ],
   "source": [
    "@app.route('/')\n",
    "def classe():\n",
    "    return render_template('home.html')\n",
    "\n",
    "@app.route('/predict',methods=['post'])\n",
    "def predict():\n",
    "    print(request.form.values())\n",
    "    input_features = [float(x) for x in request.form.values()]\n",
    "    features_value = [np.array(input_features)]\n",
    "    print(features_value)\n",
    "    features_name = [\"Pregnancies\", \"Glucose\",\"BloodPressure\",\"SkinThickness\", \"Insulin\", \"BMI\",\"DiabetesPedigreeFunction\", \"Age\"]\n",
    "    \n",
    "    df = pd.DataFrame(features_value, columns=features_name)\n",
    "    output = model.predict(df)\n",
    "        \n",
    "    if output == 1:\n",
    "        res_val = \"You are Diabetic\"\n",
    "    else:\n",
    "        res_val = \"You are not Diabetic \"\n",
    "        \n",
    "\n",
    "    return render_template('home.html', prediction_text='{}'.format(res_val))\n",
    "\n",
    "if __name__ == \"__main__\":\n",
    "    app.run()\n"
   ]
  },
  {
   "cell_type": "code",
   "execution_count": null,
   "id": "1ca965b9",
   "metadata": {},
   "outputs": [],
   "source": []
  },
  {
   "cell_type": "code",
   "execution_count": null,
   "id": "86e2f04d",
   "metadata": {},
   "outputs": [],
   "source": []
  }
 ],
 "metadata": {
  "kernelspec": {
   "display_name": "Python 3 (ipykernel)",
   "language": "python",
   "name": "python3"
  },
  "language_info": {
   "codemirror_mode": {
    "name": "ipython",
    "version": 3
   },
   "file_extension": ".py",
   "mimetype": "text/x-python",
   "name": "python",
   "nbconvert_exporter": "python",
   "pygments_lexer": "ipython3",
   "version": "3.9.12"
  }
 },
 "nbformat": 4,
 "nbformat_minor": 5
}
